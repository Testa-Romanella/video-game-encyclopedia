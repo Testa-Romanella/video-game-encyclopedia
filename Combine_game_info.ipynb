{
 "cells": [
  {
   "cell_type": "code",
   "execution_count": 15,
   "metadata": {},
   "outputs": [
    {
     "name": "stdout",
     "output_type": "stream",
     "text": [
      "GHI Media, LLC\n",
      "Iron Galaxy Studios, LLC\n",
      "Iron Galaxy Studios, LLC\n",
      "Capcom U.S.A., Inc.\n",
      "Beijing Light&Digital Technology Co., Ltd\n",
      "Beijing Light&Digital Technology Co., Ltd\n"
     ]
    }
   ],
   "source": [
    "import json\n",
    "import os\n",
    "from pprint import pprint\n",
    "\n",
    "for file in os.listdir(r\"./data/game_info/\"):\n",
    "    data = json.load(open(fr\"data/game_info/{file}\"))\n",
    "    for infos in (data[\"developers\"], data[\"genres\"], data[\"publishers\"]):\n",
    "        for info in infos:\n",
    "            if \"|\" in info: print(info)\n",
    "            if \",\" in info: print(info)\n",
    "            if \"\\t\" in info: print(info)"
   ]
  }
 ],
 "metadata": {
  "kernelspec": {
   "display_name": "Python 3",
   "language": "python",
   "name": "python3"
  },
  "language_info": {
   "codemirror_mode": {
    "name": "ipython",
    "version": 3
   },
   "file_extension": ".py",
   "mimetype": "text/x-python",
   "name": "python",
   "nbconvert_exporter": "python",
   "pygments_lexer": "ipython3",
   "version": "3.7.5"
  }
 },
 "nbformat": 4,
 "nbformat_minor": 4
}
