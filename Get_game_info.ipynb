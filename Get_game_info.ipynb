{
 "cells": [
  {
   "cell_type": "markdown",
   "metadata": {},
   "source": [
    "Specific game:\n",
    "- https://api.rawg.io/api/games/rimworld\n",
    "- https://api.rawg.io/api/games/grand-theft-auto-v\n",
    "- https://rawg.io/games/grand-theft-auto-v"
   ]
  },
  {
   "cell_type": "markdown",
   "metadata": {},
   "source": [
    "## Get info of each game"
   ]
  },
  {
   "cell_type": "code",
   "execution_count": 1,
   "metadata": {},
   "outputs": [],
   "source": [
    "import csv\n",
    "import requests\n",
    "import json\n",
    "from pprint import pprint\n",
    "from time import time\n",
    "import concurrent.futures\n",
    "import functools"
   ]
  },
  {
   "cell_type": "code",
   "execution_count": 2,
   "metadata": {},
   "outputs": [
    {
     "name": "stdout",
     "output_type": "stream",
     "text": [
      "['3498', 'grand-theft-auto-v']\n",
      "['4200', 'portal-2']\n",
      "['3328', 'the-witcher-3-wild-hunt']\n",
      "['12020', 'left-4-dead-2']\n",
      "['5679', 'the-elder-scrolls-v-skyrim']\n",
      "['802', 'borderlands-2']\n",
      "['13536', 'portal']\n",
      "['3439', 'life-is-strange-episode-1-2']\n",
      "['4291', 'counter-strike-global-offensive']\n",
      "['4062', 'bioshock-infinite']\n",
      "['1030', 'limbo']\n"
     ]
    }
   ],
   "source": [
    "csv_data = []\n",
    "with open(\"data/game_id.csv\", \"r\") as f:\n",
    "    csv_data = list(csv.reader(f))\n",
    "for i, val in enumerate(csv_data):\n",
    "    print(val)\n",
    "    if i==10: break"
   ]
  },
  {
   "cell_type": "code",
   "execution_count": 16,
   "metadata": {},
   "outputs": [],
   "source": [
    "def threading(start_index, games_per_worker, urls):\n",
    "    for url in urls[start_index : start_index + games_per_worker]:\n",
    "#         try:\n",
    "            # Get json reqquest\n",
    "            json_data = json.loads(requests.get(url, headers=headers).text)\n",
    "\n",
    "            # Only include wanted keys\n",
    "            D = {k:v for k,v in json_data.items() if k in include}\n",
    "\n",
    "            # Clean up dictionary\n",
    "            D[\"platforms\"] = []\n",
    "            for platform in json_data[\"platforms\"]:\n",
    "                D[\"platforms\"].append(platform[\"platform\"][\"name\"])\n",
    "\n",
    "            for key in (\"developers\", \"genres\", \"publishers\"):\n",
    "                D[key] = []\n",
    "                for data in json_data[key]:\n",
    "                    D[key].append(data[\"name\"])\n",
    "\n",
    "            if json_data[\"esrb_rating\"]:\n",
    "                D[\"esrb_rating\"] = json_data[\"esrb_rating\"][\"name\"]\n",
    "\n",
    "            name = D[\"id\"]\n",
    "            with open(f\"data/game_info/{name}.json\",\"w\", encoding=\"utf-8\") as f:\n",
    "                json.dump(D, f)\n",
    "#         except:\n",
    "#             print(f\"Error with {url}\")"
   ]
  },
  {
   "cell_type": "markdown",
   "metadata": {},
   "source": [
    "## Multithreading"
   ]
  },
  {
   "cell_type": "markdown",
   "metadata": {},
   "source": [
    "#### Preparation"
   ]
  },
  {
   "cell_type": "code",
   "execution_count": 21,
   "metadata": {},
   "outputs": [],
   "source": [
    "headers = { 'User-Agent': 'App Name: Education purpose',}\n",
    "include = {\"id\",\n",
    "           \"slug\",\n",
    "           \"name\",\n",
    "           \"metacritic\",\n",
    "           \"released\",\n",
    "           \"tba\",\n",
    "           \"updated\",\n",
    "           \"website\",\n",
    "           \"rating\",\n",
    "           \"rating_top\",\n",
    "           \"added_by_status\",\n",
    "           \"playtime\",\n",
    "           \"achievements_count\",\n",
    "           \"ratings_count\",\n",
    "           \"suggestions_count\",\n",
    "           \"game_series_count\",\n",
    "           \"reviews_count\",\n",
    "           \"platforms\",\n",
    "           \"developers\",\n",
    "           \"genres\",\n",
    "           \"publishers\",\n",
    "           \"esrb_rating\",\n",
    "           }\n",
    "\n",
    "max_workers = 100\n",
    "start_game_index = 100000 # min: 0\n",
    "end_game_index = 110000 # max: 345707\n",
    "number_of_games = end_game_index - start_game_index\n",
    "games_per_worker = int(number_of_games/max_workers) \n",
    "start_index = range(start_game_index, end_game_index, games_per_worker)\n",
    "\n",
    "# Make urls\n",
    "base_url = \"https://api.rawg.io/api/games/\"\n",
    "urls = [base_url + csv_data[i][0] for i in range(len(csv_data))]"
   ]
  },
  {
   "cell_type": "code",
   "execution_count": 22,
   "metadata": {},
   "outputs": [
    {
     "name": "stdout",
     "output_type": "stream",
     "text": [
      "100000 100100 100200 100300 100400 100500 100600 100700 100800 100900 101000 101100 101200 101300 101400 101500 101600 101700 101800 101900 102000 102100 102200 102300 102400 102500 102600 102700 102800 102900 103000 103100 103200 103300 103400 103500 103600 103700 103800 103900 104000 104100 104200 104300 104400 104500 104600 104700 104800 104900 105000 105100 105200 105300 105400 105500 105600 105700 105800 105900 106000 106100 106200 106300 106400 106500 106600 106700 106800 106900 107000 107100 107200 107300 107400 107500 107600 107700 107800 107900 108000 108100 108200 108300 108400 108500 108600 108700 108800 108900 109000 109100 109200 109300 109400 109500 109600 109700 109800 109900\n"
     ]
    }
   ],
   "source": [
    "print(*start_index)"
   ]
  },
  {
   "cell_type": "code",
   "execution_count": 24,
   "metadata": {},
   "outputs": [
    {
     "data": {
      "text/plain": [
       "['https://api.rawg.io/api/games/114090',\n",
       " 'https://api.rawg.io/api/games/114089',\n",
       " 'https://api.rawg.io/api/games/114088',\n",
       " 'https://api.rawg.io/api/games/114087',\n",
       " 'https://api.rawg.io/api/games/114086',\n",
       " 'https://api.rawg.io/api/games/114085',\n",
       " 'https://api.rawg.io/api/games/114084',\n",
       " 'https://api.rawg.io/api/games/114083',\n",
       " 'https://api.rawg.io/api/games/114082',\n",
       " 'https://api.rawg.io/api/games/114081']"
      ]
     },
     "execution_count": 24,
     "metadata": {},
     "output_type": "execute_result"
    }
   ],
   "source": [
    "urls[100000:100010]"
   ]
  },
  {
   "cell_type": "code",
   "execution_count": 15,
   "metadata": {},
   "outputs": [
    {
     "name": "stdout",
     "output_type": "stream",
     "text": [
      "6.20949912071228\n"
     ]
    }
   ],
   "source": [
    "# Time\n",
    "t0 = time()\n",
    "\n",
    "with concurrent.futures.ThreadPoolExecutor(max_workers=max_workers) as executor:\n",
    "    temp = functools.partial(threading, games_per_worker=games_per_worker, urls=urls)\n",
    "    executor.map(temp, start_index)\n",
    "    \n",
    "    \n",
    "# Time diff\n",
    "print(time()-t0)"
   ]
  },
  {
   "cell_type": "code",
   "execution_count": null,
   "metadata": {},
   "outputs": [],
   "source": []
  }
 ],
 "metadata": {
  "kernelspec": {
   "display_name": "Python 3",
   "language": "python",
   "name": "python3"
  },
  "language_info": {
   "codemirror_mode": {
    "name": "ipython",
    "version": 3
   },
   "file_extension": ".py",
   "mimetype": "text/x-python",
   "name": "python",
   "nbconvert_exporter": "python",
   "pygments_lexer": "ipython3",
   "version": "3.7.5"
  }
 },
 "nbformat": 4,
 "nbformat_minor": 4
}
