{
 "cells": [
  {
   "cell_type": "markdown",
   "metadata": {},
   "source": [
    "Specific game:\n",
    "- https://api.rawg.io/api/games/rimworld\n",
    "- https://api.rawg.io/api/games/grand-theft-auto-v\n",
    "- https://rawg.io/games/grand-theft-auto-v"
   ]
  },
  {
   "cell_type": "markdown",
   "metadata": {},
   "source": [
    "## Get info of each game"
   ]
  },
  {
   "cell_type": "code",
   "execution_count": 1,
   "metadata": {},
   "outputs": [],
   "source": [
    "import csv\n",
    "import requests\n",
    "import json\n",
    "from pprint import pprint\n",
    "from time import time\n",
    "import concurrent.futures\n",
    "import functools\n",
    "import os"
   ]
  },
  {
   "cell_type": "code",
   "execution_count": 2,
   "metadata": {},
   "outputs": [
    {
     "name": "stdout",
     "output_type": "stream",
     "text": [
      "['3498', 'grand-theft-auto-v']\n",
      "['4200', 'portal-2']\n",
      "['3328', 'the-witcher-3-wild-hunt']\n",
      "['12020', 'left-4-dead-2']\n",
      "['5679', 'the-elder-scrolls-v-skyrim']\n",
      "['802', 'borderlands-2']\n",
      "['13536', 'portal']\n",
      "['3439', 'life-is-strange-episode-1-2']\n",
      "['4291', 'counter-strike-global-offensive']\n",
      "['4062', 'bioshock-infinite']\n",
      "['1030', 'limbo']\n"
     ]
    }
   ],
   "source": [
    "csv_data = []\n",
    "with open(\"data/game_id.csv\", \"r\") as f:\n",
    "    csv_data = list(csv.reader(f))\n",
    "for i, val in enumerate(csv_data):\n",
    "    print(val)\n",
    "    if i==10: break"
   ]
  },
  {
   "cell_type": "code",
   "execution_count": 3,
   "metadata": {},
   "outputs": [],
   "source": [
    "def threading(start_index, games_per_worker, urls, downloaded_files):\n",
    "    for url in urls[start_index : start_index + games_per_worker]:\n",
    "        if url.rsplit(\"/\")[-1] in downloaded_files: continue\n",
    "#         try:\n",
    "        # Get json reqquest\n",
    "        json_data = json.loads(requests.get(url, headers=headers).text)\n",
    "\n",
    "        # Only include wanted keys\n",
    "        D = {k:v for k,v in json_data.items() if k in include}\n",
    "\n",
    "        # Clean up dictionary\n",
    "        D[\"platforms\"] = []\n",
    "        for platform in json_data[\"platforms\"]:\n",
    "            D[\"platforms\"].append(platform[\"platform\"][\"name\"])\n",
    "\n",
    "        for key in (\"developers\", \"genres\", \"publishers\"):\n",
    "            D[key] = []\n",
    "            for data in json_data[key]:\n",
    "                D[key].append(data[\"name\"])\n",
    "\n",
    "        if json_data[\"esrb_rating\"]:\n",
    "            D[\"esrb_rating\"] = json_data[\"esrb_rating\"][\"name\"]\n",
    "\n",
    "        name = D[\"id\"]\n",
    "        with open(f\"data/game_info/{name}.json\",\"w\", encoding=\"utf-8\") as f:\n",
    "            json.dump(D, f)\n",
    "#         except:\n",
    "#             print(f\"Error with {url}\")"
   ]
  },
  {
   "cell_type": "markdown",
   "metadata": {},
   "source": [
    "## Multithreading"
   ]
  },
  {
   "cell_type": "markdown",
   "metadata": {},
   "source": [
    "### Create folder if not existed"
   ]
  },
  {
   "cell_type": "code",
   "execution_count": 4,
   "metadata": {},
   "outputs": [],
   "source": [
    "import os\n",
    "if not os.path.exists('data/game_info/'):\n",
    "    os.makedirs('data/game_info/')"
   ]
  },
  {
   "cell_type": "markdown",
   "metadata": {},
   "source": [
    "#### Preparation"
   ]
  },
  {
   "cell_type": "code",
   "execution_count": 5,
   "metadata": {},
   "outputs": [],
   "source": [
    "headers = { 'User-Agent': 'App Name: Education purpose',}\n",
    "include = {\"id\",\n",
    "           \"slug\",\n",
    "           \"name\",\n",
    "           \"metacritic\",\n",
    "           \"released\",\n",
    "           \"tba\",\n",
    "           \"updated\",\n",
    "           \"website\",\n",
    "           \"rating\",\n",
    "           \"rating_top\",\n",
    "           \"added_by_status\",\n",
    "           \"playtime\",\n",
    "           \"achievements_count\",\n",
    "           \"ratings_count\",\n",
    "           \"suggestions_count\",\n",
    "           \"game_series_count\",\n",
    "           \"reviews_count\",\n",
    "           \"platforms\",\n",
    "           \"developers\",\n",
    "           \"genres\",\n",
    "           \"publishers\",\n",
    "           \"esrb_rating\",\n",
    "           }\n",
    "\n",
    "max_workers = 10\n",
    "start_game_index = 300000 # min: 0\n",
    "end_game_index = 300100 # max: 345707\n",
    "number_of_games = end_game_index - start_game_index\n",
    "games_per_worker = int(number_of_games/max_workers) \n",
    "start_index = range(start_game_index, end_game_index, games_per_worker)\n",
    "\n",
    "# Make urls\n",
    "base_url = \"https://api.rawg.io/api/games/\"\n",
    "urls = [base_url + csv_data[i][0] for i in range(len(csv_data))]\n"
   ]
  },
  {
   "cell_type": "code",
   "execution_count": 6,
   "metadata": {},
   "outputs": [
    {
     "name": "stdout",
     "output_type": "stream",
     "text": [
      "300000 300010 300020 300030 300040 300050 300060 300070 300080 300090\n"
     ]
    },
    {
     "data": {
      "text/plain": [
       "['https://api.rawg.io/api/games/257455',\n",
       " 'https://api.rawg.io/api/games/257451',\n",
       " 'https://api.rawg.io/api/games/257449',\n",
       " 'https://api.rawg.io/api/games/257439',\n",
       " 'https://api.rawg.io/api/games/257435',\n",
       " 'https://api.rawg.io/api/games/257433',\n",
       " 'https://api.rawg.io/api/games/257428',\n",
       " 'https://api.rawg.io/api/games/257427',\n",
       " 'https://api.rawg.io/api/games/257426',\n",
       " 'https://api.rawg.io/api/games/257425']"
      ]
     },
     "execution_count": 6,
     "metadata": {},
     "output_type": "execute_result"
    }
   ],
   "source": [
    "print(*start_index[:10])\n",
    "urls[start_game_index:start_game_index+10]"
   ]
  },
  {
   "cell_type": "code",
   "execution_count": 7,
   "metadata": {},
   "outputs": [
    {
     "name": "stdout",
     "output_type": "stream",
     "text": [
      "5.530173301696777\n"
     ]
    }
   ],
   "source": [
    "# Skipped these\n",
    "downloaded_files = {file.split(\".\",1)[0] for file in os.listdir(\"data/game_info/\")}\n",
    "\n",
    "# Time\n",
    "t0 = time()\n",
    "with concurrent.futures.ThreadPoolExecutor(max_workers=max_workers) as executor:\n",
    "    temp = functools.partial(threading, games_per_worker=games_per_worker, urls=urls, downloaded_files=downloaded_files)\n",
    "    executor.map(temp, start_index)\n",
    "    \n",
    "# Time diff\n",
    "print(time()-t0)"
   ]
  },
  {
   "cell_type": "code",
   "execution_count": null,
   "metadata": {},
   "outputs": [],
   "source": []
  }
 ],
 "metadata": {
  "kernelspec": {
   "display_name": "Python 3",
   "language": "python",
   "name": "python3"
  },
  "language_info": {
   "codemirror_mode": {
    "name": "ipython",
    "version": 3
   },
   "file_extension": ".py",
   "mimetype": "text/x-python",
   "name": "python",
   "nbconvert_exporter": "python",
   "pygments_lexer": "ipython3",
   "version": "3.7.3"
  }
 },
 "nbformat": 4,
 "nbformat_minor": 4
}
