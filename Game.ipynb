{
 "cells": [
  {
   "cell_type": "markdown",
   "metadata": {},
   "source": [
    "DOC:\n",
    "https://rawg.io/apidocs\n",
    "- Count: 345727\n",
    "- Time taken: 373,744.71608‬ s = 103 hrs = 4 s\n",
    "\n",
    "\n",
    "- https://api.rawg.io/docs/\n",
    "- https://api.rawg.io/api/games\n"
   ]
  },
  {
   "cell_type": "markdown",
   "metadata": {},
   "source": [
    "## Get the list of all games with its number"
   ]
  },
  {
   "cell_type": "code",
   "execution_count": 1,
   "metadata": {},
   "outputs": [],
   "source": [
    "import json\n",
    "import requests\n",
    "from pprint import pprint\n",
    "import os\n",
    "from time import time\n",
    "import concurrent.futures\n",
    "import functools\n",
    "import os"
   ]
  },
  {
   "cell_type": "code",
   "execution_count": 6,
   "metadata": {
    "scrolled": true
   },
   "outputs": [],
   "source": [
    "headers = { 'User-Agent': 'App Name: Education purpose',}\n",
    "def request_and_cache(url, exclude, N):\n",
    "    # Run through N pages\n",
    "    for i in range(N):\n",
    "        print(url)\n",
    "        D = {}\n",
    "        json_data = json.loads(requests.get(url, headers=headers).text)\n",
    "        \n",
    "        # Get wanted data\n",
    "        for game in json_data[\"results\"]:\n",
    "            D[game[\"id\"]] = {k:v for k,v in game.items() if k not in exclude}\n",
    "            \n",
    "            # Special handler\n",
    "            D[game[\"id\"]][\"platforms\"] = []\n",
    "            for data in game[\"platforms\"]:\n",
    "                D[game[\"id\"]][\"platforms\"].append(data[\"platform\"][\"name\"])\n",
    "                \n",
    "            D[game[\"id\"]][\"genres\"] = []\n",
    "            for data in game[\"genres\"]:\n",
    "                D[game[\"id\"]][\"genres\"].append(data[\"platform\"][\"name\"])\n",
    "            \n",
    "        # Save data\n",
    "        page_no = int(url.split(\"page=\")[-1])\n",
    "        json.dump(D, open(fr\"data/{page_no}.json\", \"w\", encoding=\"utf8\"))\n",
    "        if not json_data['next']: break\n",
    "        url = json_data['next']\n",
    "    print(f\"Done from {page_no - N} to {page_no}\")"
   ]
  },
  {
   "cell_type": "markdown",
   "metadata": {},
   "source": [
    "Time reduce from 4 hours to 40 minutes"
   ]
  },
  {
   "cell_type": "code",
   "execution_count": 19,
   "metadata": {},
   "outputs": [],
   "source": [
    "exclude = [\"saturated_color\", \"dominant_color\", \"parent_platforms\", \"stores\", \"clip\", \"short_screenshots\"]\n",
    "\n",
    "max_workers = 86\n",
    "step = int(17286/max_workers)\n",
    "start_number = range(1, 17286, step)\n",
    "url = \"https://api.rawg.io/api/games?page=1\"\n",
    "urls = [url[:-1] + str(i) for i in start_number]\n",
    "t0=time()\n",
    "with concurrent.futures.ThreadPoolExecutor(max_workers=max_workers) as executor:\n",
    "    temp = functools.partial(request_and_cache, exclude=exclude, N=step)\n",
    "    executor.map(temp, urls)\n",
    "print(time()-t0)"
   ]
  },
  {
   "cell_type": "code",
   "execution_count": null,
   "metadata": {},
   "outputs": [],
   "source": [
    "import os\n",
    "import json\n",
    "import csv\n",
    "with open(\"data/game_id.csv\", \"w\") as f:\n",
    "    csv_file = csv.writer(f, lineterminator=\"\\n\")\n",
    "    for file in os.listdir(\"rawdata/\"):\n",
    "        try:\n",
    "            json_data = json.load(open(f\"rawdata/{file}\", \"r\"))\n",
    "        except:\n",
    "            print(file)\n",
    "        for game in json_data.values():\n",
    "            csv_file.writerow([game[\"id\"], game[\"slug\"]])\n",
    "        visited.add(file)"
   ]
  }
 ],
 "metadata": {
  "kernelspec": {
   "display_name": "Python 3",
   "language": "python",
   "name": "python3"
  },
  "language_info": {
   "codemirror_mode": {
    "name": "ipython",
    "version": 3
   },
   "file_extension": ".py",
   "mimetype": "text/x-python",
   "name": "python",
   "nbconvert_exporter": "python",
   "pygments_lexer": "ipython3",
   "version": "3.7.3"
  }
 },
 "nbformat": 4,
 "nbformat_minor": 4
}
